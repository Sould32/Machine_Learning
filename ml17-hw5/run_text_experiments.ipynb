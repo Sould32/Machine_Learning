{
 "cells": [
  {
   "cell_type": "code",
   "execution_count": 1,
   "metadata": {
    "collapsed": false
   },
   "outputs": [],
   "source": [
    "%matplotlib inline\n",
    "%load_ext autoreload\n",
    "%autoreload 2"
   ]
  },
  {
   "cell_type": "code",
   "execution_count": 2,
   "metadata": {
    "collapsed": true
   },
   "outputs": [],
   "source": [
    "from __future__ import division\n",
    "from markov import *"
   ]
  },
  {
   "cell_type": "code",
   "execution_count": 3,
   "metadata": {
    "collapsed": false
   },
   "outputs": [],
   "source": [
    "# Uncomment one of these text file definitions to choose your training data.\n",
    "\n",
    "input_file = 'data/toy.txt.gz'  # tiny test input\n",
    "# input_file = 'data/odyssey.txt.gz'  # Homer's Epic Poem, from Project Gutenberg\n",
    "# input_file = 'data/shakespeare.txt.gz'  # The complete works of William Shakespeare, from Project Gutenberg\n",
    "# input_file = 'data/us_constitution.gz'  # The US Constitution, from Project Gutenberg\n",
    "# input_file = 'data/obama15.txt.gz'  # Pres. Obama's 2015 State-of-the-Union address\n",
    "# input_file = 'data/trump_arizona_8-22.txt.gz'  # Pres. Trump's Arizona Speech Transcript"
   ]
  },
  {
   "cell_type": "code",
   "execution_count": 8,
   "metadata": {
    "collapsed": false
   },
   "outputs": [
    {
     "name": "stdout",
     "output_type": "stream",
     "text": [
      "{\"it's\", 'over', 'dog', 'what', \"can't\", 'dogs', 'tricks', 'new', 'quick', 'raining', 'lazy', 'and', 'brown', 'the', 'teach', 'jumps', 'fox', 'an', 'get', 'always', 'old', 'want', 'you', 'cats'}\n",
      "helloo!\n",
      "['the quick brown fox jumps over the lazy dog', \"it's raining cats and dogs\", \"you can't teach an old dog new tricks\", \"you can't always get what you want\"]\n",
      "{\"it's\": 0.25, 'you': 0.5, 'the': 0.25}\n"
     ]
    }
   ],
   "source": [
    "# Load data and train model\n",
    "\n",
    "training_data = parse_text(input_file)\n",
    "\n",
    "# for line in training_data:\n",
    "#     print(line)\n",
    "\n",
    "model = train_markov_chain(training_data)"
   ]
  },
  {
   "cell_type": "code",
   "execution_count": 16,
   "metadata": {
    "collapsed": false
   },
   "outputs": [
    {
     "name": "stdout",
     "output_type": "stream",
     "text": [
      "#####################################################################\n",
      "sure\n",
      "['you', 'raining', 'cats', 'and', 'dogs', '\\n', \"it's\", \"can't\", 'always', 'get', 'what', 'you', \"can't\", 'teach', 'an', 'old', 'dog', 'new', 'tricks', '\\n', 'you', \"can't\", 'always', 'get', 'what', 'you', 'want', '\\n', 'you', 'quick', 'brown', 'fox', 'jumps', 'over', 'the', 'lazy', 'dog', 'new', 'tricks', '\\n', \"it's\", 'quick', 'brown', 'fox', 'jumps', 'over', 'the', 'lazy', 'dog', 'new', 'tricks', '\\n', 'you', 'lazy', 'dog', 'new', 'tricks', '\\n', 'you', 'lazy', 'dog', 'new', 'tricks', '\\n', 'the', 'want', '\\n', \"it's\", 'want', '\\n', 'you', 'want', '\\n']\n",
      "y o u\n",
      "\n",
      "r a i n i n g\n",
      "\n",
      "c a t s\n",
      "\n",
      "a n d\n",
      "\n",
      "d o g s\n",
      "\n",
      "\n",
      "\n",
      "\n",
      "i t ' s\n",
      "\n",
      "c a n ' t\n",
      "\n",
      "a l w a y s\n",
      "\n",
      "g e t\n",
      "\n",
      "w h a t\n",
      "\n",
      "y o u\n",
      "\n",
      "c a n ' t\n",
      "\n",
      "t e a c h\n",
      "\n",
      "a n\n",
      "\n",
      "o l d\n",
      "\n",
      "d o g\n",
      "\n",
      "n e w\n",
      "\n",
      "t r i c k s\n",
      "\n",
      "\n",
      "\n",
      "\n",
      "y o u\n",
      "\n",
      "c a n ' t\n",
      "\n",
      "a l w a y s\n",
      "\n",
      "g e t\n",
      "\n",
      "w h a t\n",
      "\n",
      "y o u\n",
      "\n",
      "w a n t\n",
      "\n",
      "\n",
      "\n",
      "\n",
      "y o u\n",
      "\n",
      "q u i c k\n",
      "\n",
      "b r o w n\n",
      "\n",
      "f o x\n",
      "\n",
      "j u m p s\n",
      "\n",
      "o v e r\n",
      "\n",
      "t h e\n",
      "\n",
      "l a z y\n",
      "\n",
      "d o g\n",
      "\n",
      "n e w\n",
      "\n",
      "t r i c k s\n",
      "\n",
      "\n",
      "\n",
      "\n",
      "i t ' s\n",
      "\n",
      "q u i c k\n",
      "\n",
      "b r o w n\n",
      "\n",
      "f o x\n",
      "\n",
      "j u m p s\n",
      "\n",
      "o v e r\n",
      "\n",
      "t h e\n",
      "\n",
      "l a z y\n",
      "\n",
      "d o g\n",
      "\n",
      "n e w\n",
      "\n",
      "t r i c k s\n",
      "\n",
      "\n",
      "\n",
      "\n",
      "y o u\n",
      "\n",
      "l a z y\n",
      "\n",
      "d o g\n",
      "\n",
      "n e w\n",
      "\n",
      "t r i c k s\n",
      "\n",
      "\n",
      "\n",
      "\n",
      "y o u\n",
      "\n",
      "l a z y\n",
      "\n",
      "d o g\n",
      "\n",
      "n e w\n",
      "\n",
      "t r i c k s\n",
      "\n",
      "\n",
      "\n",
      "\n",
      "t h e\n",
      "\n",
      "w a n t\n",
      "\n",
      "\n",
      "\n",
      "\n",
      "i t ' s\n",
      "\n",
      "w a n t\n",
      "\n",
      "\n",
      "\n",
      "\n",
      "y o u\n",
      "\n",
      "w a n t\n",
      "\n",
      "\n",
      "\n",
      "\n"
     ]
    }
   ],
   "source": [
    "# Generate random text sequence from the model\n",
    "\n",
    "sequences = sample_markov_chain(model, 10)\n",
    "\n",
    "for sequence in sequences:\n",
    "    print(\" \".join(sequence))\n",
    "    print('')"
   ]
  },
  {
   "cell_type": "code",
   "execution_count": null,
   "metadata": {
    "collapsed": true
   },
   "outputs": [],
   "source": []
  }
 ],
 "metadata": {
  "anaconda-cloud": {},
  "kernelspec": {
   "display_name": "Python [conda root]",
   "language": "python",
   "name": "conda-root-py"
  },
  "language_info": {
   "codemirror_mode": {
    "name": "ipython",
    "version": 3
   },
   "file_extension": ".py",
   "mimetype": "text/x-python",
   "name": "python",
   "nbconvert_exporter": "python",
   "pygments_lexer": "ipython3",
   "version": "3.5.2"
  }
 },
 "nbformat": 4,
 "nbformat_minor": 0
}
