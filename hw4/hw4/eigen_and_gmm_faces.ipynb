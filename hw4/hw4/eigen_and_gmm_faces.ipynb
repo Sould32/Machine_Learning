{
 "cells": [
  {
   "cell_type": "code",
   "execution_count": 1,
   "metadata": {
    "collapsed": true
   },
   "outputs": [],
   "source": [
    "%matplotlib inline\n",
    "%load_ext autoreload\n",
    "%autoreload 2"
   ]
  },
  {
   "cell_type": "code",
   "execution_count": 3,
   "metadata": {
    "collapsed": false
   },
   "outputs": [
    {
     "ename": "ImportError",
     "evalue": "cannot import name 'multinomial'",
     "output_type": "error",
     "traceback": [
      "\u001b[0;31m---------------------------------------------------------------------------\u001b[0m",
      "\u001b[0;31mImportError\u001b[0m                               Traceback (most recent call last)",
      "\u001b[0;32m<ipython-input-3-9a98cf51bfd8>\u001b[0m in \u001b[0;36m<module>\u001b[0;34m()\u001b[0m\n\u001b[1;32m      3\u001b[0m \u001b[0;32mimport\u001b[0m \u001b[0mpylab\u001b[0m \u001b[0;32mas\u001b[0m \u001b[0mplt\u001b[0m\u001b[0;34m\u001b[0m\u001b[0m\n\u001b[1;32m      4\u001b[0m \u001b[0;32mfrom\u001b[0m \u001b[0mscipy\u001b[0m\u001b[0;34m.\u001b[0m\u001b[0mio\u001b[0m \u001b[0;32mimport\u001b[0m \u001b[0mloadmat\u001b[0m\u001b[0;34m\u001b[0m\u001b[0m\n\u001b[0;32m----> 5\u001b[0;31m \u001b[0;32mfrom\u001b[0m \u001b[0mscipy\u001b[0m\u001b[0;34m.\u001b[0m\u001b[0mstats\u001b[0m \u001b[0;32mimport\u001b[0m \u001b[0mmultinomial\u001b[0m\u001b[0;34m\u001b[0m\u001b[0m\n\u001b[0m\u001b[1;32m      6\u001b[0m \u001b[0;32mfrom\u001b[0m \u001b[0mpca\u001b[0m \u001b[0;32mimport\u001b[0m \u001b[0mpca\u001b[0m\u001b[0;34m\u001b[0m\u001b[0m\n\u001b[1;32m      7\u001b[0m \u001b[0;31m#from gmm import *\u001b[0m\u001b[0;34m\u001b[0m\u001b[0;34m\u001b[0m\u001b[0m\n",
      "\u001b[0;31mImportError\u001b[0m: cannot import name 'multinomial'"
     ]
    }
   ],
   "source": [
    "from __future__ import division\n",
    "import numpy as np\n",
    "import pylab as plt\n",
    "from scipy.io import loadmat\n",
    "from scipy.stats import multinomial\n",
    "from pca import pca\n",
    "from gmm import *\n",
    "import copy\n",
    "import random"
   ]
  },
  {
   "cell_type": "code",
   "execution_count": null,
   "metadata": {
    "collapsed": false
   },
   "outputs": [],
   "source": [
    "# load synthetic data from MATLAB data file\n",
    "\n",
    "variables = dict()\n",
    "loadmat('olivettiFaces.mat', variables)\n",
    "\n",
    "faces = variables['faces']\n",
    "\n",
    "# convert faces data to floats\n",
    "faces = faces.astype(float) / 255.0\n",
    "\n",
    "# center data\n",
    "faces = faces - faces.mean(0)\n",
    "\n",
    "# plot a face\n",
    "plt.imshow(faces[:, 0].reshape((64, 64)).T, cmap='gray')"
   ]
  },
  {
   "cell_type": "code",
   "execution_count": null,
   "metadata": {
    "collapsed": false
   },
   "outputs": [],
   "source": [
    "new_data, variances, vectors = pca(faces)\n",
    "\n",
    "plt.figure()\n",
    "plt.plot(variances.ravel(), '.')\n",
    "plt.xlabel('Dimension')\n",
    "plt.ylabel('Captured Variance')"
   ]
  },
  {
   "cell_type": "code",
   "execution_count": null,
   "metadata": {
    "collapsed": false,
    "scrolled": false
   },
   "outputs": [],
   "source": [
    "# plot first 16 eigenvectors\n",
    "\n",
    "for i in range(16):\n",
    "    plt.subplot(4, 4, i + 1)\n",
    "    plt.imshow(vectors[:, i].reshape((64, 64)).T, cmap='gray')"
   ]
  },
  {
   "cell_type": "code",
   "execution_count": null,
   "metadata": {
    "collapsed": false,
    "scrolled": true
   },
   "outputs": [],
   "source": [
    "# plot projections \n",
    "\n",
    "num_faces = faces.shape[1]\n",
    "\n",
    "d = 200\n",
    "\n",
    "for x in range(5):\n",
    "    i = random.randint(0, num_faces - 1)\n",
    "    plt.subplot(121)\n",
    "    plt.imshow(faces[:, i].reshape((64, 64)).T, cmap='gray')\n",
    "    plt.title('Original');\n",
    "        \n",
    "    plt.subplot(122)\n",
    "    projection = vectors[:, :d].dot(new_data[:d, i])\n",
    "    plt.imshow(projection.reshape((64, 64)).T, cmap='gray')\n",
    "    plt.title('Reconstructed');\n",
    "    plt.show()"
   ]
  },
  {
   "cell_type": "code",
   "execution_count": null,
   "metadata": {
    "collapsed": false
   },
   "outputs": [],
   "source": [
    "# generate random faces\n",
    "\n",
    "d = 200\n",
    "\n",
    "for i in range(10):\n",
    "    projection = vectors[:, :d].dot(np.random.randn(d))\n",
    "    plt.imshow(projection.reshape((64, 64)).T, cmap='gray')\n",
    "    plt.title('Random Face %d ' % i)\n",
    "    plt.show()"
   ]
  },
  {
   "cell_type": "code",
   "execution_count": null,
   "metadata": {
    "collapsed": false
   },
   "outputs": [],
   "source": [
    "# Try GMM\n",
    "\n",
    "num_clusters = 8\n",
    "\n",
    "d = 200\n",
    "\n",
    "data = new_data[:d, :]\n",
    "\n",
    "means, sigmas, probs = gmm(data, num_clusters)\n",
    "\n",
    "for i in range(num_clusters):\n",
    "    plt.subplot(np.ceil(num_clusters / 4), 4, i + 1)\n",
    "    \n",
    "    mean_image = vectors[:, :d].dot(means[:, i])\n",
    "    plt.imshow(mean_image.reshape((64, 64)).T, cmap='gray')\n",
    "    plt.xlabel('Mean %d ' % i)"
   ]
  },
  {
   "cell_type": "code",
   "execution_count": null,
   "metadata": {
    "collapsed": false
   },
   "outputs": [],
   "source": [
    "# sample faces from GMM\n",
    "\n",
    "for i in range(10):\n",
    "    k = np.random.choice(np.arange(num_clusters), p=probs)\n",
    "    x = sample_gaussian(means[:, k], sigmas[k], 1)\n",
    "    face = vectors[:, :d].dot(x)\n",
    "    plt.imshow(face.reshape((64, 64)).T, cmap='gray')\n",
    "    plt.xlabel('Random Face %d' % i)\n",
    "    plt.show()"
   ]
  },
  {
   "cell_type": "code",
   "execution_count": null,
   "metadata": {
    "collapsed": true
   },
   "outputs": [],
   "source": []
  }
 ],
 "metadata": {
  "anaconda-cloud": {},
  "kernelspec": {
   "display_name": "Python [default]",
   "language": "python",
   "name": "python3"
  },
  "language_info": {
   "codemirror_mode": {
    "name": "ipython",
    "version": 3
   },
   "file_extension": ".py",
   "mimetype": "text/x-python",
   "name": "python",
   "nbconvert_exporter": "python",
   "pygments_lexer": "ipython3",
   "version": "3.5.2"
  }
 },
 "nbformat": 4,
 "nbformat_minor": 0
}
