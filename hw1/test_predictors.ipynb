{
 "cells": [
  {
   "cell_type": "code",
   "execution_count": 1,
   "metadata": {
    "collapsed": true
   },
   "outputs": [],
   "source": [
    "%load_ext autoreload\n",
    "%autoreload 2"
   ]
  },
  {
   "cell_type": "code",
   "execution_count": 2,
   "metadata": {
    "collapsed": true
   },
   "outputs": [],
   "source": [
    "import numpy as np\n",
    "from decision_tree import calculate_information_gain, decision_tree_train, decision_tree_predict\n",
    "from naive_bayes import naive_bayes_train, naive_bayes_predict\n",
    "from load_all_data import load_all_data"
   ]
  },
  {
   "cell_type": "code",
   "execution_count": 3,
   "metadata": {},
   "outputs": [
    {
     "name": "stdout",
     "output_type": "stream",
     "text": [
      "Shelved file does not exist yet. Loading data from raw text files.\n",
      "Finished loading in 71.41 seconds.\n"
     ]
    }
   ],
   "source": [
    "num_words, num_training, num_testing, train_data, test_data, train_labels, test_labels = load_all_data()"
   ]
  },
  {
   "cell_type": "code",
   "execution_count": 4,
   "metadata": {
    "collapsed": true
   },
   "outputs": [],
   "source": [
    "d = 5000 # maximum number of features"
   ]
  },
  {
   "cell_type": "code",
   "execution_count": 5,
   "metadata": {},
   "outputs": [
    {
     "name": "stdout",
     "output_type": "stream",
     "text": [
      "[  6.89207784e-03   5.72929454e-03   2.35420535e-02 ...,  -2.22044605e-16\n",
      "  -2.22044605e-16  -2.22044605e-16]\n"
     ]
    }
   ],
   "source": [
    "# Filter features by information gain\n",
    "\n",
    "gain = calculate_information_gain(train_data, train_labels)\n",
    "\n",
    "print (gain)\n",
    "\n",
    "# sort features by calculated information gain\n",
    "ranks = gain.argsort()[::-1]\n",
    "\n",
    "train_data = train_data[ranks[:d], :]\n",
    "test_data = test_data[ranks[:d], :]"
   ]
  },
  {
   "cell_type": "code",
   "execution_count": 28,
   "metadata": {
    "collapsed": true
   },
   "outputs": [],
   "source": [
    "# Try naive Bayes with hard-coded alpha value\n",
    "\n",
    "nb_params = { 'alpha': 1.0 }\n",
    "\n",
    "nb_model = naive_bayes_train(train_data, train_labels, nb_params)"
   ]
  },
  {
   "cell_type": "code",
   "execution_count": 29,
   "metadata": {},
   "outputs": [
    {
     "name": "stdout",
     "output_type": "stream",
     "text": [
      "Naive Bayes training accuracy: 0.803798\n"
     ]
    }
   ],
   "source": [
    "# Compute training accuracy\n",
    "\n",
    "nb_train_predictions = naive_bayes_predict(train_data, nb_model)\n",
    "\n",
    "nb_train_accuracy = np.mean(nb_train_predictions == train_labels)\n",
    "\n",
    "print(\"Naive Bayes training accuracy: %f\" % nb_train_accuracy)"
   ]
  },
  {
   "cell_type": "code",
   "execution_count": 30,
   "metadata": {
    "collapsed": true
   },
   "outputs": [
    {
     "name": "stdout",
     "output_type": "stream",
     "text": [
      "Naive Bayes testing accuracy: 0.629181\n"
     ]
    }
   ],
   "source": [
    "# Compute testing accuracy\n",
    "\n",
    "nb_test_predictions = naive_bayes_predict(test_data, nb_model)\n",
    "\n",
    "nb_test_accuracy = np.mean(nb_test_predictions == test_labels)\n",
    "\n",
    "print(\"Naive Bayes testing accuracy: %f\" % nb_test_accuracy)"
   ]
  },
  {
   "cell_type": "code",
   "execution_count": 50,
   "metadata": {},
   "outputs": [],
   "source": [
    "# Try decision tree with hard-coded maximum depth\n",
    "\n",
    "dt_params = { 'max_depth': 16 }\n",
    "\n",
    "dt_model = decision_tree_train(train_data, train_labels, dt_params)"
   ]
  },
  {
   "cell_type": "code",
   "execution_count": 48,
   "metadata": {},
   "outputs": [
    {
     "name": "stdout",
     "output_type": "stream",
     "text": [
      "Decision tree training accuracy: 0.377673\n"
     ]
    }
   ],
   "source": [
    "# Compute training accuracy\n",
    "\n",
    "dt_train_predictions = decision_tree_predict(train_data, dt_model)\n",
    "                                \n",
    "dt_train_accuracy = np.mean(dt_train_predictions == train_labels)\n",
    "\n",
    "print(\"Decision tree training accuracy: %f\" % dt_train_accuracy)"
   ]
  },
  {
   "cell_type": "code",
   "execution_count": 49,
   "metadata": {},
   "outputs": [
    {
     "name": "stdout",
     "output_type": "stream",
     "text": [
      "Decision tree testing accuracy: 0.322185\n"
     ]
    }
   ],
   "source": [
    "# Compute testing accuracy\n",
    "\n",
    "dt_test_predictions = decision_tree_predict(test_data, dt_model)\n",
    "                                \n",
    "dt_test_accuracy = np.mean(dt_test_predictions == test_labels)\n",
    "\n",
    "print(\"Decision tree testing accuracy: %f\" % dt_test_accuracy)"
   ]
  },
  {
   "cell_type": "code",
   "execution_count": null,
   "metadata": {
    "collapsed": true
   },
   "outputs": [],
   "source": []
  }
 ],
 "metadata": {
  "anaconda-cloud": {},
  "kernelspec": {
   "display_name": "Python 3",
   "language": "python",
   "name": "python3"
  },
  "language_info": {
   "codemirror_mode": {
    "name": "ipython",
    "version": 3
   },
   "file_extension": ".py",
   "mimetype": "text/x-python",
   "name": "python",
   "nbconvert_exporter": "python",
   "pygments_lexer": "ipython3",
   "version": "3.6.1"
  }
 },
 "nbformat": 4,
 "nbformat_minor": 1
}
