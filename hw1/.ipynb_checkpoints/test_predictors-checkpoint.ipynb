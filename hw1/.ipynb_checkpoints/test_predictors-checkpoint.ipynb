{
 "cells": [
  {
   "cell_type": "code",
   "execution_count": 1,
   "metadata": {
    "collapsed": true
   },
   "outputs": [],
   "source": [
    "%load_ext autoreload\n",
    "%autoreload 2"
   ]
  },
  {
   "cell_type": "code",
   "execution_count": 2,
   "metadata": {
    "collapsed": true
   },
   "outputs": [],
   "source": [
    "import numpy as np\n",
    "from decision_tree import calculate_information_gain, decision_tree_train, decision_tree_predict\n",
    "from naive_bayes import naive_bayes_train, naive_bayes_predict\n",
    "from load_all_data import load_all_data"
   ]
  },
  {
   "cell_type": "code",
   "execution_count": 3,
   "metadata": {},
   "outputs": [
    {
     "name": "stdout",
     "output_type": "stream",
     "text": [
      "Shelved file does not exist yet. Loading data from raw text files.\n",
      "Finished loading in 50.36 seconds.\n"
     ]
    }
   ],
   "source": [
    "num_words, num_training, num_testing, train_data, test_data, train_labels, test_labels = load_all_data()"
   ]
  },
  {
   "cell_type": "code",
   "execution_count": 4,
   "metadata": {
    "collapsed": true
   },
   "outputs": [],
   "source": [
    "d = 5000 # maximum number of features"
   ]
  },
  {
   "cell_type": "code",
   "execution_count": 5,
   "metadata": {},
   "outputs": [
    {
     "name": "stdout",
     "output_type": "stream",
     "text": [
      "[  6.89207784e-03   5.72929454e-03   2.35420535e-02 ...,  -2.22044605e-16\n",
      "  -2.22044605e-16  -2.22044605e-16]\n"
     ]
    }
   ],
   "source": [
    "# Filter features by information gain\n",
    "\n",
    "gain = calculate_information_gain(train_data, train_labels)\n",
    "\n",
    "print (gain)\n",
    "\n",
    "# sort features by calculated information gain\n",
    "ranks = gain.argsort()[::-1]\n",
    "\n",
    "train_data = train_data[ranks[:d], :]\n",
    "test_data = test_data[ranks[:d], :]"
   ]
  },
  {
   "cell_type": "code",
   "execution_count": 28,
   "metadata": {
    "collapsed": true
   },
   "outputs": [],
   "source": [
    "# Try naive Bayes with hard-coded alpha value\n",
    "\n",
    "nb_params = { 'alpha': 1.0 }\n",
    "\n",
    "nb_model = naive_bayes_train(train_data, train_labels, nb_params)"
   ]
  },
  {
   "cell_type": "code",
   "execution_count": 29,
   "metadata": {},
   "outputs": [
    {
     "name": "stdout",
     "output_type": "stream",
     "text": [
      "Naive Bayes training accuracy: 0.803798\n"
     ]
    }
   ],
   "source": [
    "# Compute training accuracy\n",
    "\n",
    "nb_train_predictions = naive_bayes_predict(train_data, nb_model)\n",
    "\n",
    "nb_train_accuracy = np.mean(nb_train_predictions == train_labels)\n",
    "\n",
    "print(\"Naive Bayes training accuracy: %f\" % nb_train_accuracy)"
   ]
  },
  {
   "cell_type": "code",
   "execution_count": 30,
   "metadata": {
    "collapsed": true
   },
   "outputs": [
    {
     "name": "stdout",
     "output_type": "stream",
     "text": [
      "Naive Bayes testing accuracy: 0.629181\n"
     ]
    }
   ],
   "source": [
    "# Compute testing accuracy\n",
    "\n",
    "nb_test_predictions = naive_bayes_predict(test_data, nb_model)\n",
    "\n",
    "nb_test_accuracy = np.mean(nb_test_predictions == test_labels)\n",
    "\n",
    "print(\"Naive Bayes testing accuracy: %f\" % nb_test_accuracy)"
   ]
  },
  {
   "cell_type": "code",
   "execution_count": 20,
   "metadata": {},
   "outputs": [
    {
     "name": "stdout",
     "output_type": "stream",
     "text": [
      "8\n",
      "(11269,)\n",
      "(799,)\n",
      "(150,)\n",
      "(0,)\n",
      "(0,)\n",
      "(0,)\n",
      "(0,)\n",
      "(0,)\n",
      "(0,)\n",
      "(0,)\n",
      "(0,)\n",
      "(0,)\n",
      "(0,)\n",
      "(0,)\n",
      "(0,)\n",
      "(0,)\n",
      "(0,)"
     ]
    },
    {
     "name": "stderr",
     "output_type": "stream",
     "text": [
      "C:\\Users\\Broulaye\\Documents\\Machine Learning\\hw1\\decision_tree.py:33: RuntimeWarning: invalid value encountered in true_divide\n",
      "  prob_x = num_x / n\n"
     ]
    },
    {
     "name": "stdout",
     "output_type": "stream",
     "text": [
      "\n",
      "(0,)\n",
      "(0,)\n",
      "(0,)\n",
      "(0,)\n",
      "(0,)\n",
      "(0,)\n",
      "(0,)\n",
      "(0,)\n",
      "(0,)\n",
      "(0,)\n",
      "(0,)\n",
      "(0,)\n",
      "(0,)\n",
      "(0,)\n",
      "(0,)\n",
      "(0,)\n",
      "(0,)\n",
      "(150,)\n",
      "(0,)\n",
      "(0,)\n",
      "(0,)\n",
      "(0,)\n",
      "(0,)\n",
      "(0,)\n",
      "(0,)\n",
      "(0,)\n",
      "(0,)\n",
      "(0,)\n",
      "(0,)\n",
      "(0,)\n",
      "(0,)\n",
      "(0,)\n",
      "(0,)\n",
      "(150,)\n",
      "(0,)\n",
      "(0,)\n",
      "(0,)\n",
      "(0,)\n",
      "(0,)\n",
      "(0,)\n",
      "(0,)\n",
      "(150,)\n",
      "(0,)\n",
      "(0,)\n",
      "(0,)\n",
      "(150,)\n",
      "(0,)\n",
      "(150,)\n",
      "(649,)\n",
      "(272,)\n",
      "(262,)\n",
      "(6,)\n",
      "(0,)\n",
      "(0,)\n",
      "(0,)\n",
      "(6,)\n",
      "(0,)\n",
      "(6,)\n",
      "(256,)\n",
      "(91,)\n",
      "(66,)\n",
      "(25,)\n",
      "(165,)\n",
      "(67,)\n",
      "(98,)\n",
      "(377,)\n",
      "(17,)\n",
      "(14,)\n",
      "(0,)\n",
      "(0,)\n",
      "(0,)\n",
      "(14,)\n",
      "(0,)\n",
      "(14,)\n",
      "(3,)\n",
      "(1,)\n",
      "(0,)\n",
      "(1,)\n",
      "(2,)\n",
      "(0,)\n",
      "(2,)\n",
      "(360,)\n",
      "(88,)\n",
      "(4,)\n",
      "(1,)\n",
      "(84,)\n",
      "(5,)\n",
      "(79,)\n",
      "(272,)\n",
      "(152,)\n",
      "(5,)\n",
      "(147,)\n",
      "(120,)\n",
      "(36,)\n",
      "(84,)\n",
      "(10470,)\n",
      "(723,)\n",
      "(34,)\n",
      "(3,)\n",
      "(2,)\n",
      "(0,)\n",
      "(0,)\n",
      "(0,)\n",
      "(2,)\n",
      "(0,)\n",
      "(2,)\n",
      "(1,)\n",
      "(0,)\n",
      "(0,)\n",
      "(0,)\n",
      "(1,)\n",
      "(0,)\n",
      "(1,)\n",
      "(31,)\n",
      "(5,)\n",
      "(1,)\n",
      "(0,)\n",
      "(1,)\n",
      "(4,)\n",
      "(0,)\n",
      "(4,)\n",
      "(26,)\n",
      "(0,)\n",
      "(0,)\n",
      "(0,)\n",
      "(26,)\n",
      "(0,)\n",
      "(26,)\n",
      "(689,)\n",
      "(120,)\n",
      "(39,)\n",
      "(34,)\n",
      "(6,)\n",
      "(28,)\n",
      "(81,)\n",
      "(25,)\n",
      "(21,)\n",
      "(56,)\n",
      "(15,)\n",
      "(41,)\n",
      "(569,)\n",
      "(15,)\n",
      "(1,)\n",
      "(0,)\n",
      "(1,)\n",
      "(14,)\n",
      "(0,)\n",
      "(14,)\n",
      "(554,)\n",
      "(36,)\n",
      "(3,)\n",
      "(33,)\n",
      "(518,)\n",
      "(92,)\n",
      "(426,)\n",
      "(9747,)\n",
      "(368,)\n",
      "(5,)\n",
      "(2,)\n",
      "(2,)\n",
      "(2,)\n",
      "(0,)\n",
      "(0,)\n",
      "(0,)\n",
      "(0,)\n",
      "(3,)\n",
      "(0,)\n",
      "(0,)\n",
      "(0,)\n",
      "(3,)\n",
      "(0,)\n",
      "(3,)\n",
      "(363,)\n",
      "(15,)\n",
      "(0,)\n",
      "(0,)\n",
      "(0,)\n",
      "(15,)\n",
      "(0,)\n",
      "(15,)\n",
      "(348,)\n",
      "(25,)\n",
      "(3,)\n",
      "(22,)\n",
      "(323,)\n",
      "(3,)\n",
      "(320,)\n",
      "(9379,)\n",
      "(707,)\n",
      "(115,)\n",
      "(0,)\n",
      "(0,)\n",
      "(0,)\n",
      "(115,)\n",
      "(0,)\n",
      "(115,)\n",
      "(592,)\n",
      "(522,)\n",
      "(60,)\n",
      "(462,)\n",
      "(8672,)\n",
      "(435,)\n",
      "(120,)\n",
      "(0,)\n",
      "(120,)\n",
      "(315,)\n",
      "(23,)\n",
      "(292,)\n",
      "(8237,)\n",
      "(444,)\n",
      "(41,)\n",
      "(403,)\n",
      "(7793,)\n",
      "(3721,)\n",
      "(4072,)\n",
      "{0: {'prediction': None, 'l_child': {22: {'prediction': None, 'l_child': {4999: {'prediction': None, 'l_child': {4999: {'prediction': None, 'l_child': {4999: {'prediction': None, 'l_child': {4999: {'prediction': None, 'l_child': {4999: {'prediction': None, 'l_child': {4999: {'prediction': None, 'l_child': {4999: {'prediction': None, 'l_child': {}, 'r_child': {}}}, 'r_child': {4999: {'prediction': None, 'l_child': {}, 'r_child': {}}}}}, 'r_child': {4999: {'prediction': None, 'l_child': {4999: {'prediction': None, 'l_child': {}, 'r_child': {}}}, 'r_child': {4999: {'prediction': None, 'l_child': {}, 'r_child': {}}}}}}}, 'r_child': {4999: {'prediction': None, 'l_child': {4999: {'prediction': None, 'l_child': {4999: {'prediction': None, 'l_child': {}, 'r_child': {}}}, 'r_child': {4999: {'prediction': None, 'l_child': {}, 'r_child': {}}}}}, 'r_child': {4999: {'prediction': None, 'l_child': {4999: {'prediction': None, 'l_child': {}, 'r_child': {}}}, 'r_child': {4999: {'prediction': None, 'l_child': {}, 'r_child': {}}}}}}}}}, 'r_child': {4999: {'prediction': None, 'l_child': {4999: {'prediction': None, 'l_child': {4999: {'prediction': None, 'l_child': {4999: {'prediction': None, 'l_child': {}, 'r_child': {}}}, 'r_child': {4999: {'prediction': None, 'l_child': {}, 'r_child': {}}}}}, 'r_child': {4999: {'prediction': None, 'l_child': {4999: {'prediction': None, 'l_child': {}, 'r_child': {}}}, 'r_child': {4999: {'prediction': None, 'l_child': {}, 'r_child': {}}}}}}}, 'r_child': {4999: {'prediction': None, 'l_child': {4999: {'prediction': None, 'l_child': {4999: {'prediction': None, 'l_child': {}, 'r_child': {}}}, 'r_child': {4999: {'prediction': None, 'l_child': {}, 'r_child': {}}}}}, 'r_child': {4999: {'prediction': None, 'l_child': {4999: {'prediction': None, 'l_child': {}, 'r_child': {}}}, 'r_child': {4999: {'prediction': None, 'l_child': {}, 'r_child': {}}}}}}}}}}}, 'r_child': {4999: {'prediction': None, 'l_child': {4999: {'prediction': None, 'l_child': {4999: {'prediction': None, 'l_child': {4999: {'prediction': None, 'l_child': {4999: {'prediction': None, 'l_child': {}, 'r_child': {}}}, 'r_child': {4999: {'prediction': None, 'l_child': {}, 'r_child': {}}}}}, 'r_child': {4999: {'prediction': None, 'l_child': {4999: {'prediction': None, 'l_child': {}, 'r_child': {}}}, 'r_child': {4999: {'prediction': None, 'l_child': {}, 'r_child': {}}}}}}}, 'r_child': {4999: {'prediction': None, 'l_child': {4999: {'prediction': None, 'l_child': {4999: {'prediction': None, 'l_child': {}, 'r_child': {}}}, 'r_child': {4999: {'prediction': None, 'l_child': {}, 'r_child': {}}}}}, 'r_child': {4999: {'prediction': None, 'l_child': {4999: {'prediction': None, 'l_child': {}, 'r_child': {}}}, 'r_child': {4999: {'prediction': None, 'l_child': {}, 'r_child': {}}}}}}}}}, 'r_child': {4999: {'prediction': None, 'l_child': {4999: {'prediction': None, 'l_child': {4999: {'prediction': None, 'l_child': {4999: {'prediction': None, 'l_child': {}, 'r_child': {}}}, 'r_child': {4999: {'prediction': None, 'l_child': {}, 'r_child': {}}}}}, 'r_child': {4999: {'prediction': None, 'l_child': {4999: {'prediction': None, 'l_child': {}, 'r_child': {}}}, 'r_child': {4999: {'prediction': None, 'l_child': {}, 'r_child': {}}}}}}}, 'r_child': {4999: {'prediction': None, 'l_child': {4999: {'prediction': None, 'l_child': {4999: {'prediction': None, 'l_child': {}, 'r_child': {}}}, 'r_child': {4999: {'prediction': None, 'l_child': {}, 'r_child': {}}}}}, 'r_child': {4999: {'prediction': None, 'l_child': {4999: {'prediction': None, 'l_child': {}, 'r_child': {}}}, 'r_child': {4999: {'prediction': None, 'l_child': {}, 'r_child': {}}}}}}}}}}}}}, 'r_child': {4999: {'prediction': None, 'l_child': {4999: {'prediction': None, 'l_child': {4999: {'prediction': None, 'l_child': {4999: {'prediction': None, 'l_child': {4999: {'prediction': None, 'l_child': {4999: {'prediction': None, 'l_child': {}, 'r_child': {}}}, 'r_child': {4999: {'prediction': None, 'l_child': {}, 'r_child': {}}}}}, 'r_child': {4999: {'prediction': None, 'l_child': {4999: {'prediction': None, 'l_child': {}, 'r_child': {}}}, 'r_child': {4999: {'prediction': None, 'l_child': {}, 'r_child': {}}}}}}}, 'r_child': {4999: {'prediction': None, 'l_child': {4999: {'prediction': None, 'l_child': {4999: {'prediction': None, 'l_child': {}, 'r_child': {}}}, 'r_child': {4999: {'prediction': None, 'l_child': {}, 'r_child': {}}}}}, 'r_child': {4999: {'prediction': None, 'l_child': {4999: {'prediction': None, 'l_child': {}, 'r_child': {}}}, 'r_child': {4999: {'prediction': None, 'l_child': {}, 'r_child': {}}}}}}}}}, 'r_child': {4999: {'prediction': None, 'l_child': {4999: {'prediction': None, 'l_child': {4999: {'prediction': None, 'l_child': {4999: {'prediction': None, 'l_child': {}, 'r_child': {}}}, 'r_child': {4999: {'prediction': None, 'l_child': {}, 'r_child': {}}}}}, 'r_child': {4999: {'prediction': None, 'l_child': {4999: {'prediction': None, 'l_child': {}, 'r_child': {}}}, 'r_child': {4999: {'prediction': None, 'l_child': {}, 'r_child': {}}}}}}}, 'r_child': {4999: {'prediction': None, 'l_child': {4999: {'prediction': None, 'l_child': {4999: {'prediction': None, 'l_child': {}, 'r_child': {}}}, 'r_child': {4999: {'prediction': None, 'l_child': {}, 'r_child': {}}}}}, 'r_child': {4999: {'prediction': None, 'l_child': {4999: {'prediction': None, 'l_child': {}, 'r_child': {}}}, 'r_child': {4999: {'prediction': None, 'l_child': {}, 'r_child': {}}}}}}}}}}}, 'r_child': {4999: {'prediction': None, 'l_child': {4999: {'prediction': None, 'l_child': {4999: {'prediction': None, 'l_child': {4999: {'prediction': None, 'l_child': {4999: {'prediction': None, 'l_child': {}, 'r_child': {}}}, 'r_child': {4999: {'prediction': None, 'l_child': {}, 'r_child': {}}}}}, 'r_child': {4999: {'prediction': None, 'l_child': {4999: {'prediction': None, 'l_child': {}, 'r_child': {}}}, 'r_child': {4999: {'prediction': None, 'l_child': {}, 'r_child': {}}}}}}}, 'r_child': {4999: {'prediction': None, 'l_child': {4999: {'prediction': None, 'l_child': {4999: {'prediction': None, 'l_child': {}, 'r_child': {}}}, 'r_child': {4999: {'prediction': None, 'l_child': {}, 'r_child': {}}}}}, 'r_child': {4999: {'prediction': None, 'l_child': {4999: {'prediction': None, 'l_child': {}, 'r_child': {}}}, 'r_child': {4999: {'prediction': None, 'l_child': {}, 'r_child': {}}}}}}}}}, 'r_child': {4999: {'prediction': None, 'l_child': {4999: {'prediction': None, 'l_child': {4999: {'prediction': None, 'l_child': {4999: {'prediction': None, 'l_child': {}, 'r_child': {}}}, 'r_child': {4999: {'prediction': None, 'l_child': {}, 'r_child': {}}}}}, 'r_child': {4999: {'prediction': None, 'l_child': {4999: {'prediction': None, 'l_child': {}, 'r_child': {}}}, 'r_child': {4999: {'prediction': None, 'l_child': {}, 'r_child': {}}}}}}}, 'r_child': {4999: {'prediction': None, 'l_child': {4999: {'prediction': None, 'l_child': {4999: {'prediction': None, 'l_child': {}, 'r_child': {}}}, 'r_child': {4999: {'prediction': None, 'l_child': {}, 'r_child': {}}}}}, 'r_child': {4999: {'prediction': None, 'l_child': {4999: {'prediction': None, 'l_child': {}, 'r_child': {}}}, 'r_child': {4999: {'prediction': 15, 'l_child': {}, 'r_child': {}}}}}}}}}}}}}}}, 'r_child': {28: {'prediction': None, 'l_child': {2: {'prediction': None, 'l_child': {4999: {'prediction': 8, 'l_child': {}, 'r_child': {}}}, 'r_child': {4: {'prediction': None, 'l_child': {4999: {'prediction': None, 'l_child': {4999: {'prediction': None, 'l_child': {4999: {'prediction': None, 'l_child': {4999: {'prediction': None, 'l_child': {}, 'r_child': {}}}, 'r_child': {4999: {'prediction': None, 'l_child': {}, 'r_child': {}}}}}, 'r_child': {4999: {'prediction': None, 'l_child': {4999: {'prediction': None, 'l_child': {}, 'r_child': {}}}, 'r_child': {4999: {'prediction': None, 'l_child': {}, 'r_child': {}}}}}}}, 'r_child': {4999: {'prediction': None, 'l_child': {4999: {'prediction': None, 'l_child': {4999: {'prediction': None, 'l_child': {}, 'r_child': {}}}, 'r_child': {4999: {'prediction': None, 'l_child': {}, 'r_child': {}}}}}, 'r_child': {4999: {'prediction': None, 'l_child': {4999: {'prediction': None, 'l_child': {}, 'r_child': {}}}, 'r_child': {4999: {'prediction': 5, 'l_child': {}, 'r_child': {}}}}}}}}}, 'r_child': {152: {'prediction': None, 'l_child': {384: {'prediction': None, 'l_child': {347: {'prediction': None, 'l_child': {4999: {'prediction': 3, 'l_child': {}, 'r_child': {}}}, 'r_child': {834: {'prediction': 0, 'l_child': {}, 'r_child': {}}}}}, 'r_child': {443: {'prediction': None, 'l_child': {4999: {'prediction': 14, 'l_child': {}, 'r_child': {}}}, 'r_child': {46: {'prediction': 0, 'l_child': {}, 'r_child': {}}}}}}}, 'r_child': {1274: {'prediction': None, 'l_child': {473: {'prediction': None, 'l_child': {3597: {'prediction': 1, 'l_child': {}, 'r_child': {}}}, 'r_child': {5: {'prediction': 19, 'l_child': {}, 'r_child': {}}}}}, 'r_child': {302: {'prediction': None, 'l_child': {4999: {'prediction': 2, 'l_child': {}, 'r_child': {}}}, 'r_child': {4085: {'prediction': 0, 'l_child': {}, 'r_child': {}}}}}}}}}}}}}, 'r_child': {516: {'prediction': None, 'l_child': {160: {'prediction': None, 'l_child': {4999: {'prediction': None, 'l_child': {4999: {'prediction': None, 'l_child': {4999: {'prediction': None, 'l_child': {4999: {'prediction': None, 'l_child': {}, 'r_child': {}}}, 'r_child': {4999: {'prediction': None, 'l_child': {}, 'r_child': {}}}}}, 'r_child': {4999: {'prediction': None, 'l_child': {4999: {'prediction': None, 'l_child': {}, 'r_child': {}}}, 'r_child': {4999: {'prediction': None, 'l_child': {}, 'r_child': {}}}}}}}, 'r_child': {4999: {'prediction': None, 'l_child': {4999: {'prediction': None, 'l_child': {4999: {'prediction': None, 'l_child': {}, 'r_child': {}}}, 'r_child': {4999: {'prediction': None, 'l_child': {}, 'r_child': {}}}}}, 'r_child': {4999: {'prediction': None, 'l_child': {4999: {'prediction': None, 'l_child': {}, 'r_child': {}}}, 'r_child': {4999: {'prediction': 8, 'l_child': {}, 'r_child': {}}}}}}}}}, 'r_child': {1898: {'prediction': None, 'l_child': {4999: {'prediction': None, 'l_child': {4999: {'prediction': None, 'l_child': {4999: {'prediction': None, 'l_child': {}, 'r_child': {}}}, 'r_child': {4999: {'prediction': None, 'l_child': {}, 'r_child': {}}}}}, 'r_child': {4999: {'prediction': None, 'l_child': {4999: {'prediction': None, 'l_child': {}, 'r_child': {}}}, 'r_child': {4999: {'prediction': 0, 'l_child': {}, 'r_child': {}}}}}}}, 'r_child': {4999: {'prediction': None, 'l_child': {4999: {'prediction': None, 'l_child': {4999: {'prediction': None, 'l_child': {}, 'r_child': {}}}, 'r_child': {4999: {'prediction': None, 'l_child': {}, 'r_child': {}}}}}, 'r_child': {4999: {'prediction': None, 'l_child': {4999: {'prediction': None, 'l_child': {}, 'r_child': {}}}, 'r_child': {4999: {'prediction': 1, 'l_child': {}, 'r_child': {}}}}}}}}}}}, 'r_child': {30: {'prediction': None, 'l_child': {1827: {'prediction': None, 'l_child': {1861: {'prediction': None, 'l_child': {4999: {'prediction': None, 'l_child': {4999: {'prediction': None, 'l_child': {}, 'r_child': {}}}, 'r_child': {4999: {'prediction': 0, 'l_child': {}, 'r_child': {}}}}}, 'r_child': {4999: {'prediction': 0, 'l_child': {}, 'r_child': {}}}}}, 'r_child': {4999: {'prediction': None, 'l_child': {4999: {'prediction': None, 'l_child': {4999: {'prediction': 4, 'l_child': {}, 'r_child': {}}}, 'r_child': {4999: {'prediction': None, 'l_child': {}, 'r_child': {}}}}}, 'r_child': {4999: {'prediction': None, 'l_child': {4999: {'prediction': None, 'l_child': {}, 'r_child': {}}}, 'r_child': {4999: {'prediction': 15, 'l_child': {}, 'r_child': {}}}}}}}}}, 'r_child': {115: {'prediction': None, 'l_child': {895: {'prediction': None, 'l_child': {727: {'prediction': None, 'l_child': {4999: {'prediction': 0, 'l_child': {}, 'r_child': {}}}, 'r_child': {4999: {'prediction': 3, 'l_child': {}, 'r_child': {}}}}}, 'r_child': {650: {'prediction': None, 'l_child': {4999: {'prediction': 2, 'l_child': {}, 'r_child': {}}}, 'r_child': {168: {'prediction': 15, 'l_child': {}, 'r_child': {}}}}}}}, 'r_child': {9: {'prediction': None, 'l_child': {97: {'prediction': None, 'l_child': {4999: {'prediction': 0, 'l_child': {}, 'r_child': {}}}, 'r_child': {3033: {'prediction': 15, 'l_child': {}, 'r_child': {}}}}}, 'r_child': {3258: {'prediction': None, 'l_child': {1218: {'prediction': 0, 'l_child': {}, 'r_child': {}}}, 'r_child': {87: {'prediction': 15, 'l_child': {}, 'r_child': {}}}}}}}}}}}}}}}}}, 'r_child': {1: {'prediction': None, 'l_child': {29: {'prediction': None, 'l_child': {2340: {'prediction': None, 'l_child': {4060: {'prediction': None, 'l_child': {4999: {'prediction': None, 'l_child': {4999: {'prediction': None, 'l_child': {4999: {'prediction': None, 'l_child': {4999: {'prediction': None, 'l_child': {}, 'r_child': {}}}, 'r_child': {4999: {'prediction': None, 'l_child': {}, 'r_child': {}}}}}, 'r_child': {4999: {'prediction': None, 'l_child': {4999: {'prediction': None, 'l_child': {}, 'r_child': {}}}, 'r_child': {4999: {'prediction': None, 'l_child': {}, 'r_child': {}}}}}}}, 'r_child': {4999: {'prediction': None, 'l_child': {4999: {'prediction': None, 'l_child': {4999: {'prediction': None, 'l_child': {}, 'r_child': {}}}, 'r_child': {4999: {'prediction': None, 'l_child': {}, 'r_child': {}}}}}, 'r_child': {4999: {'prediction': None, 'l_child': {4999: {'prediction': None, 'l_child': {}, 'r_child': {}}}, 'r_child': {4999: {'prediction': 1, 'l_child': {}, 'r_child': {}}}}}}}}}, 'r_child': {4999: {'prediction': None, 'l_child': {4999: {'prediction': None, 'l_child': {4999: {'prediction': None, 'l_child': {4999: {'prediction': None, 'l_child': {}, 'r_child': {}}}, 'r_child': {4999: {'prediction': None, 'l_child': {}, 'r_child': {}}}}}, 'r_child': {4999: {'prediction': None, 'l_child': {4999: {'prediction': None, 'l_child': {}, 'r_child': {}}}, 'r_child': {4999: {'prediction': None, 'l_child': {}, 'r_child': {}}}}}}}, 'r_child': {4999: {'prediction': None, 'l_child': {4999: {'prediction': None, 'l_child': {4999: {'prediction': None, 'l_child': {}, 'r_child': {}}}, 'r_child': {4999: {'prediction': None, 'l_child': {}, 'r_child': {}}}}}, 'r_child': {4999: {'prediction': None, 'l_child': {4999: {'prediction': None, 'l_child': {}, 'r_child': {}}}, 'r_child': {4999: {'prediction': 0, 'l_child': {}, 'r_child': {}}}}}}}}}}}, 'r_child': {1408: {'prediction': None, 'l_child': {1763: {'prediction': None, 'l_child': {4999: {'prediction': None, 'l_child': {4999: {'prediction': None, 'l_child': {4999: {'prediction': None, 'l_child': {}, 'r_child': {}}}, 'r_child': {4999: {'prediction': None, 'l_child': {}, 'r_child': {}}}}}, 'r_child': {4999: {'prediction': None, 'l_child': {4999: {'prediction': None, 'l_child': {}, 'r_child': {}}}, 'r_child': {4999: {'prediction': 0, 'l_child': {}, 'r_child': {}}}}}}}, 'r_child': {4999: {'prediction': None, 'l_child': {4999: {'prediction': None, 'l_child': {4999: {'prediction': None, 'l_child': {}, 'r_child': {}}}, 'r_child': {4999: {'prediction': None, 'l_child': {}, 'r_child': {}}}}}, 'r_child': {4999: {'prediction': None, 'l_child': {4999: {'prediction': None, 'l_child': {}, 'r_child': {}}}, 'r_child': {4999: {'prediction': 3, 'l_child': {}, 'r_child': {}}}}}}}}}, 'r_child': {4999: {'prediction': None, 'l_child': {4999: {'prediction': None, 'l_child': {4999: {'prediction': None, 'l_child': {4999: {'prediction': None, 'l_child': {}, 'r_child': {}}}, 'r_child': {4999: {'prediction': None, 'l_child': {}, 'r_child': {}}}}}, 'r_child': {4999: {'prediction': None, 'l_child': {4999: {'prediction': None, 'l_child': {}, 'r_child': {}}}, 'r_child': {4999: {'prediction': None, 'l_child': {}, 'r_child': {}}}}}}}, 'r_child': {4999: {'prediction': None, 'l_child': {4999: {'prediction': None, 'l_child': {4999: {'prediction': None, 'l_child': {}, 'r_child': {}}}, 'r_child': {4999: {'prediction': None, 'l_child': {}, 'r_child': {}}}}}, 'r_child': {4999: {'prediction': None, 'l_child': {4999: {'prediction': None, 'l_child': {}, 'r_child': {}}}, 'r_child': {4999: {'prediction': 6, 'l_child': {}, 'r_child': {}}}}}}}}}}}}}, 'r_child': {54: {'prediction': None, 'l_child': {1548: {'prediction': None, 'l_child': {4401: {'prediction': None, 'l_child': {4999: {'prediction': 4, 'l_child': {}, 'r_child': {}}}, 'r_child': {2004: {'prediction': None, 'l_child': {307: {'prediction': None, 'l_child': {4999: {'prediction': 0, 'l_child': {}, 'r_child': {}}}, 'r_child': {4999: {'prediction': 1, 'l_child': {}, 'r_child': {}}}}}, 'r_child': {3258: {'prediction': None, 'l_child': {4999: {'prediction': 5, 'l_child': {}, 'r_child': {}}}, 'r_child': {4999: {'prediction': 1, 'l_child': {}, 'r_child': {}}}}}}}}}, 'r_child': {40: {'prediction': None, 'l_child': {785: {'prediction': None, 'l_child': {4999: {'prediction': 3, 'l_child': {}, 'r_child': {}}}, 'r_child': {4999: {'prediction': None, 'l_child': {4999: {'prediction': None, 'l_child': {}, 'r_child': {}}}, 'r_child': {4999: {'prediction': 2, 'l_child': {}, 'r_child': {}}}}}}}, 'r_child': {212: {'prediction': None, 'l_child': {924: {'prediction': None, 'l_child': {4999: {'prediction': 0, 'l_child': {}, 'r_child': {}}}, 'r_child': {4999: {'prediction': 5, 'l_child': {}, 'r_child': {}}}}}, 'r_child': {1660: {'prediction': None, 'l_child': {4999: {'prediction': 5, 'l_child': {}, 'r_child': {}}}, 'r_child': {563: {'prediction': 2, 'l_child': {}, 'r_child': {}}}}}}}}}}}, 'r_child': {6: {'prediction': None, 'l_child': {2163: {'prediction': None, 'l_child': {4999: {'prediction': None, 'l_child': {4999: {'prediction': None, 'l_child': {4999: {'prediction': None, 'l_child': {}, 'r_child': {}}}, 'r_child': {4999: {'prediction': None, 'l_child': {}, 'r_child': {}}}}}, 'r_child': {4999: {'prediction': None, 'l_child': {4999: {'prediction': None, 'l_child': {}, 'r_child': {}}}, 'r_child': {4999: {'prediction': 0, 'l_child': {}, 'r_child': {}}}}}}}, 'r_child': {4999: {'prediction': None, 'l_child': {4999: {'prediction': None, 'l_child': {4999: {'prediction': None, 'l_child': {}, 'r_child': {}}}, 'r_child': {4999: {'prediction': None, 'l_child': {}, 'r_child': {}}}}}, 'r_child': {4999: {'prediction': None, 'l_child': {4999: {'prediction': None, 'l_child': {}, 'r_child': {}}}, 'r_child': {4999: {'prediction': 7, 'l_child': {}, 'r_child': {}}}}}}}}}, 'r_child': {201: {'prediction': None, 'l_child': {69: {'prediction': None, 'l_child': {4999: {'prediction': None, 'l_child': {4999: {'prediction': None, 'l_child': {}, 'r_child': {}}}, 'r_child': {4999: {'prediction': 2, 'l_child': {}, 'r_child': {}}}}}, 'r_child': {206: {'prediction': None, 'l_child': {218: {'prediction': 2, 'l_child': {}, 'r_child': {}}}, 'r_child': {343: {'prediction': 3, 'l_child': {}, 'r_child': {}}}}}}}, 'r_child': {49: {'prediction': None, 'l_child': {218: {'prediction': None, 'l_child': {4999: {'prediction': 3, 'l_child': {}, 'r_child': {}}}, 'r_child': {1845: {'prediction': 2, 'l_child': {}, 'r_child': {}}}}}, 'r_child': {314: {'prediction': None, 'l_child': {63: {'prediction': 5, 'l_child': {}, 'r_child': {}}}, 'r_child': {40: {'prediction': 2, 'l_child': {}, 'r_child': {}}}}}}}}}}}}}}}, 'r_child': {2: {'prediction': None, 'l_child': {723: {'prediction': None, 'l_child': {4999: {'prediction': None, 'l_child': {4999: {'prediction': None, 'l_child': {4999: {'prediction': None, 'l_child': {4999: {'prediction': None, 'l_child': {4999: {'prediction': 1, 'l_child': {}, 'r_child': {}}}, 'r_child': {4999: {'prediction': None, 'l_child': {}, 'r_child': {}}}}}, 'r_child': {4999: {'prediction': None, 'l_child': {4999: {'prediction': None, 'l_child': {}, 'r_child': {}}}, 'r_child': {4999: {'prediction': None, 'l_child': {}, 'r_child': {}}}}}}}, 'r_child': {4999: {'prediction': None, 'l_child': {4999: {'prediction': None, 'l_child': {4999: {'prediction': None, 'l_child': {}, 'r_child': {}}}, 'r_child': {4999: {'prediction': None, 'l_child': {}, 'r_child': {}}}}}, 'r_child': {4999: {'prediction': None, 'l_child': {4999: {'prediction': None, 'l_child': {}, 'r_child': {}}}, 'r_child': {4999: {'prediction': None, 'l_child': {}, 'r_child': {}}}}}}}}}, 'r_child': {4999: {'prediction': None, 'l_child': {4999: {'prediction': None, 'l_child': {4999: {'prediction': None, 'l_child': {4999: {'prediction': None, 'l_child': {}, 'r_child': {}}}, 'r_child': {4999: {'prediction': None, 'l_child': {}, 'r_child': {}}}}}, 'r_child': {4999: {'prediction': None, 'l_child': {4999: {'prediction': None, 'l_child': {}, 'r_child': {}}}, 'r_child': {4999: {'prediction': None, 'l_child': {}, 'r_child': {}}}}}}}, 'r_child': {4999: {'prediction': None, 'l_child': {4999: {'prediction': None, 'l_child': {4999: {'prediction': None, 'l_child': {}, 'r_child': {}}}, 'r_child': {4999: {'prediction': None, 'l_child': {}, 'r_child': {}}}}}, 'r_child': {4999: {'prediction': None, 'l_child': {4999: {'prediction': None, 'l_child': {}, 'r_child': {}}}, 'r_child': {4999: {'prediction': 2, 'l_child': {}, 'r_child': {}}}}}}}}}}}, 'r_child': {4645: {'prediction': None, 'l_child': {4999: {'prediction': None, 'l_child': {4999: {'prediction': None, 'l_child': {4999: {'prediction': None, 'l_child': {4999: {'prediction': None, 'l_child': {}, 'r_child': {}}}, 'r_child': {4999: {'prediction': None, 'l_child': {}, 'r_child': {}}}}}, 'r_child': {4999: {'prediction': None, 'l_child': {4999: {'prediction': None, 'l_child': {}, 'r_child': {}}}, 'r_child': {4999: {'prediction': None, 'l_child': {}, 'r_child': {}}}}}}}, 'r_child': {4999: {'prediction': None, 'l_child': {4999: {'prediction': None, 'l_child': {4999: {'prediction': None, 'l_child': {}, 'r_child': {}}}, 'r_child': {4999: {'prediction': None, 'l_child': {}, 'r_child': {}}}}}, 'r_child': {4999: {'prediction': None, 'l_child': {4999: {'prediction': None, 'l_child': {}, 'r_child': {}}}, 'r_child': {4999: {'prediction': 7, 'l_child': {}, 'r_child': {}}}}}}}}}, 'r_child': {477: {'prediction': None, 'l_child': {579: {'prediction': None, 'l_child': {4999: {'prediction': None, 'l_child': {4999: {'prediction': 0, 'l_child': {}, 'r_child': {}}}, 'r_child': {4999: {'prediction': 1, 'l_child': {}, 'r_child': {}}}}}, 'r_child': {4999: {'prediction': None, 'l_child': {4999: {'prediction': None, 'l_child': {}, 'r_child': {}}}, 'r_child': {4999: {'prediction': 8, 'l_child': {}, 'r_child': {}}}}}}}, 'r_child': {3423: {'prediction': None, 'l_child': {4999: {'prediction': None, 'l_child': {4999: {'prediction': None, 'l_child': {}, 'r_child': {}}}, 'r_child': {4999: {'prediction': 2, 'l_child': {}, 'r_child': {}}}}}, 'r_child': {3441: {'prediction': None, 'l_child': {4999: {'prediction': 1, 'l_child': {}, 'r_child': {}}}, 'r_child': {1885: {'prediction': 8, 'l_child': {}, 'r_child': {}}}}}}}}}}}}}, 'r_child': {3: {'prediction': None, 'l_child': {23: {'prediction': None, 'l_child': {4999: {'prediction': None, 'l_child': {4999: {'prediction': None, 'l_child': {4999: {'prediction': None, 'l_child': {4999: {'prediction': None, 'l_child': {}, 'r_child': {}}}, 'r_child': {4999: {'prediction': None, 'l_child': {}, 'r_child': {}}}}}, 'r_child': {4999: {'prediction': None, 'l_child': {4999: {'prediction': None, 'l_child': {}, 'r_child': {}}}, 'r_child': {4999: {'prediction': None, 'l_child': {}, 'r_child': {}}}}}}}, 'r_child': {4999: {'prediction': None, 'l_child': {4999: {'prediction': None, 'l_child': {4999: {'prediction': None, 'l_child': {}, 'r_child': {}}}, 'r_child': {4999: {'prediction': None, 'l_child': {}, 'r_child': {}}}}}, 'r_child': {4999: {'prediction': None, 'l_child': {4999: {'prediction': None, 'l_child': {}, 'r_child': {}}}, 'r_child': {4999: {'prediction': 11, 'l_child': {}, 'r_child': {}}}}}}}}}, 'r_child': {61: {'prediction': None, 'l_child': {4999: {'prediction': 17, 'l_child': {}, 'r_child': {}}}, 'r_child': {32: {'prediction': None, 'l_child': {4999: {'prediction': None, 'l_child': {4999: {'prediction': 0, 'l_child': {}, 'r_child': {}}}, 'r_child': {4999: {'prediction': 17, 'l_child': {}, 'r_child': {}}}}}, 'r_child': {48: {'prediction': None, 'l_child': {4999: {'prediction': 11, 'l_child': {}, 'r_child': {}}}, 'r_child': {34: {'prediction': 16, 'l_child': {}, 'r_child': {}}}}}}}}}}}, 'r_child': {4: {'prediction': None, 'l_child': {14: {'prediction': None, 'l_child': {4999: {'prediction': None, 'l_child': {4999: {'prediction': None, 'l_child': {4999: {'prediction': None, 'l_child': {}, 'r_child': {}}}, 'r_child': {4999: {'prediction': None, 'l_child': {}, 'r_child': {}}}}}, 'r_child': {4999: {'prediction': None, 'l_child': {4999: {'prediction': None, 'l_child': {}, 'r_child': {}}}, 'r_child': {4999: {'prediction': 10, 'l_child': {}, 'r_child': {}}}}}}}, 'r_child': {64: {'prediction': None, 'l_child': {3831: {'prediction': None, 'l_child': {4999: {'prediction': 0, 'l_child': {}, 'r_child': {}}}, 'r_child': {4999: {'prediction': 14, 'l_child': {}, 'r_child': {}}}}}, 'r_child': {196: {'prediction': None, 'l_child': {4999: {'prediction': 9, 'l_child': {}, 'r_child': {}}}, 'r_child': {36: {'prediction': 10, 'l_child': {}, 'r_child': {}}}}}}}}}, 'r_child': {6: {'prediction': None, 'l_child': {33: {'prediction': None, 'l_child': {801: {'prediction': None, 'l_child': {4999: {'prediction': 0, 'l_child': {}, 'r_child': {}}}, 'r_child': {4999: {'prediction': 16, 'l_child': {}, 'r_child': {}}}}}, 'r_child': {8: {'prediction': None, 'l_child': {4999: {'prediction': 8, 'l_child': {}, 'r_child': {}}}, 'r_child': {11: {'prediction': 7, 'l_child': {}, 'r_child': {}}}}}}}, 'r_child': {11: {'prediction': None, 'l_child': {17: {'prediction': None, 'l_child': {279: {'prediction': 17, 'l_child': {}, 'r_child': {}}}, 'r_child': {22: {'prediction': 13, 'l_child': {}, 'r_child': {}}}}}, 'r_child': {29: {'prediction': None, 'l_child': {510: {'prediction': 6, 'l_child': {}, 'r_child': {}}}, 'r_child': {34: {'prediction': 1, 'l_child': {}, 'r_child': {}}}}}}}}}}}}}}}}}}}\n"
     ]
    }
   ],
   "source": [
    "# Try decision tree with hard-coded maximum depth\n",
    "\n",
    "dt_params = { 'max_depth': 8 }\n",
    "\n",
    "dt_model = decision_tree_train(train_data, train_labels, dt_params)"
   ]
  },
  {
   "cell_type": "code",
   "execution_count": 16,
   "metadata": {},
   "outputs": [
    {
     "name": "stdout",
     "output_type": "stream",
     "text": [
      "Decision tree training accuracy: 0.286627\n"
     ]
    }
   ],
   "source": [
    "# Compute training accuracy\n",
    "\n",
    "dt_train_predictions = decision_tree_predict(train_data, dt_model)\n",
    "                                \n",
    "dt_train_accuracy = np.mean(dt_train_predictions == train_labels)\n",
    "\n",
    "print(\"Decision tree training accuracy: %f\" % dt_train_accuracy)"
   ]
  },
  {
   "cell_type": "code",
   "execution_count": 17,
   "metadata": {},
   "outputs": [
    {
     "name": "stdout",
     "output_type": "stream",
     "text": [
      "Decision tree testing accuracy: 0.250233\n"
     ]
    }
   ],
   "source": [
    "# Compute testing accuracy\n",
    "\n",
    "dt_test_predictions = decision_tree_predict(test_data, dt_model)\n",
    "                                \n",
    "dt_test_accuracy = np.mean(dt_test_predictions == test_labels)\n",
    "\n",
    "print(\"Decision tree testing accuracy: %f\" % dt_test_accuracy)"
   ]
  },
  {
   "cell_type": "code",
   "execution_count": null,
   "metadata": {
    "collapsed": true
   },
   "outputs": [],
   "source": []
  }
 ],
 "metadata": {
  "anaconda-cloud": {},
  "kernelspec": {
   "display_name": "Python 3",
   "language": "python",
   "name": "python3"
  },
  "language_info": {
   "codemirror_mode": {
    "name": "ipython",
    "version": 3
   },
   "file_extension": ".py",
   "mimetype": "text/x-python",
   "name": "python",
   "nbconvert_exporter": "python",
   "pygments_lexer": "ipython3",
   "version": "3.6.1"
  }
 },
 "nbformat": 4,
 "nbformat_minor": 1
}
