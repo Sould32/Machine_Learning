{
 "cells": [
  {
   "cell_type": "code",
   "execution_count": 1,
   "metadata": {
    "collapsed": true
   },
   "outputs": [],
   "source": [
    "%load_ext autoreload\n",
    "%autoreload 2\n",
    "%matplotlib inline"
   ]
  },
  {
   "cell_type": "code",
   "execution_count": 2,
   "metadata": {
    "collapsed": true
   },
   "outputs": [],
   "source": [
    "import numpy as np\n",
    "from decision_tree import calculate_information_gain, decision_tree_train, decision_tree_predict\n",
    "from naive_bayes import naive_bayes_train, naive_bayes_predict\n",
    "from load_all_data import load_all_data\n",
    "from crossval import cross_validate\n",
    "import random\n",
    "import matplotlib.pyplot as plt"
   ]
  },
  {
   "cell_type": "code",
   "execution_count": 3,
   "metadata": {},
   "outputs": [
    {
     "name": "stdout",
     "output_type": "stream",
     "text": [
      "Shelved file does not exist yet. Loading data from raw text files.\n",
      "Finished loading in 209.46 seconds.\n"
     ]
    }
   ],
   "source": [
    "num_words, num_training, num_testing, train_data, test_data, train_labels, test_labels = load_all_data()"
   ]
  },
  {
   "cell_type": "code",
   "execution_count": 4,
   "metadata": {
    "collapsed": true
   },
   "outputs": [],
   "source": [
    "d = 5000 # maximum number of features"
   ]
  },
  {
   "cell_type": "code",
   "execution_count": 48,
   "metadata": {},
   "outputs": [
    {
     "name": "stdout",
     "output_type": "stream",
     "text": [
      "[ 0.10060696  0.09795364  0.08220415  0.08011339  0.07396533  0.07344176\n",
      "  0.07177069  0.07129802  0.06781505  0.06602623  0.06249216  0.06232632\n",
      "  0.06153948  0.06039504  0.05840825  0.05805665  0.05790892  0.05648282\n",
      "  0.05611109  0.05446072  0.05369282  0.05353036  0.05350577  0.05317605\n",
      "  0.05212438  0.05184297  0.05135332  0.05098514  0.05017322  0.04981521\n",
      "  0.04929379  0.0490542   0.04897939  0.04874443  0.04850615  0.04509275\n",
      "  0.04454584  0.04436476  0.04383811  0.04347201  0.04292297  0.04278922\n",
      "  0.04272752  0.0422176   0.04208228  0.04110392  0.04104288  0.04068492\n",
      "  0.04068109  0.04019829  0.03994515  0.03986229  0.03856486  0.03840129\n",
      "  0.03819409  0.03761028  0.03735524  0.03708209  0.03693843  0.03681676\n",
      "  0.03635817  0.0362138   0.03600648  0.03596166  0.03590354  0.03579624\n",
      "  0.03547906  0.03515375  0.0350292   0.03485648  0.03483138  0.03476647\n",
      "  0.03448758  0.0343656   0.03436029  0.03423308  0.03410258  0.03400384\n",
      "  0.03353342  0.03332553  0.03331725  0.032873    0.03266655  0.03254003\n",
      "  0.03244415  0.03214379  0.03213016  0.03206437  0.03154127  0.03133167\n",
      "  0.03061818  0.03054277  0.0305357   0.03046316  0.03034092  0.0301752\n",
      "  0.03009114  0.02992111  0.02990527  0.02975499  0.02967189  0.02955217\n",
      "  0.02896205  0.02889361  0.02883326  0.02880205  0.02867399  0.02863086\n",
      "  0.02845512  0.02815029  0.02799015  0.02790727  0.02773604  0.02758232\n",
      "  0.02755677  0.02755407  0.02752608  0.02750649  0.02742239  0.02736118\n",
      "  0.02728146  0.02727983  0.0272683   0.02716673  0.02690067  0.02686702\n",
      "  0.02686667  0.02685858  0.02654298  0.02646256  0.02641832  0.0261474\n",
      "  0.02604969  0.02596047  0.02595454  0.02573079  0.02555574  0.02550862\n",
      "  0.02550523  0.02549214  0.02535924  0.02524588  0.02515871  0.02508355\n",
      "  0.02503853  0.02501818  0.02497047  0.02484266  0.02461944  0.02450316\n",
      "  0.02448878  0.02448508  0.02448438  0.02446845  0.02432328  0.02427428\n",
      "  0.02418778  0.02417784  0.02413327  0.02412296  0.02411196  0.0240411\n",
      "  0.02403349  0.02402483  0.02402035  0.02361294  0.02359064  0.0235437\n",
      "  0.02354205  0.02354178  0.02347799  0.02344173  0.02338169  0.02320798\n",
      "  0.0232032   0.02319397  0.02318725  0.02302349  0.02273245  0.02269729\n",
      "  0.0226653   0.0226573   0.02260254  0.02251842  0.02248821  0.02243675\n",
      "  0.02242699  0.02238428  0.02236607  0.02232176  0.02232176  0.02227354\n",
      "  0.02210977  0.02210965  0.02203773  0.02201755  0.02196805  0.02196554\n",
      "  0.02195104  0.02191072  0.02190493  0.02189161  0.02185744  0.02182317\n",
      "  0.02175702  0.02163669  0.02160769  0.0215906   0.02158965  0.02157632\n",
      "  0.02151591  0.02149068  0.02148818  0.02132063  0.02130669  0.02127761\n",
      "  0.02119582  0.02119113  0.0211688   0.0210397   0.02102499  0.02100424\n",
      "  0.02100385  0.0210017   0.02099139  0.02095385  0.02090409  0.02084257\n",
      "  0.02078951  0.02074791  0.02074241  0.02071256  0.02064699  0.02063797\n",
      "  0.02059307  0.02057455  0.02045056  0.02032215  0.02030559  0.02029918\n",
      "  0.02008227  0.02000228  0.0199876   0.01994644  0.01993614  0.0199292\n",
      "  0.01991386  0.01988035  0.01987343  0.01981386]\n",
      "(250, 11269)\n",
      "[  0.   0.   0.   0.   0.   0.   0.   0.   0.   0.   0.   0.   0.   0.   0.\n",
      "   0.   0.   0.   0.   0.   0.   0.   0.   0.   0.   0.   0.   0.   0.   0.\n",
      "   0.   0.   0.   0.   0.   0.   0.   0.   0.   0.   0.   0.   0.   0.   0.\n",
      "   0.   0.   0.   0.   0.   0.   0.   0.   0.   0.   0.   0.   0.   0.   0.\n",
      "   0.   0.   0.   0.   0.   0.   0.   0.   0.   0.   0.   0.   0.   0.   0.\n",
      "   0.   0.   0.   0.   0.   0.   0.   0.   0.   0.   0.   0.   0.   0.   0.\n",
      "   0.   0.   0.   0.   0.   0.   0.   0.   0.   0.   0.   0.   0.   0.   0.\n",
      "   0.   0.   0.   0.   0.   0.   0.   0.   0.   0.   0.   0.   0.   0.   0.\n",
      "   0.   0.   0.   0.   0.   0.   0.   0.   0.   0.   0.   0.   0.   0.   0.\n",
      "   0.   0.   0.   0.   0.   0.   0.   0.   0.   0.   0.   0.   0.   0.   0.\n",
      "   0.   0.   0.   0.   0.   0.   0.   0.   0.   0.   0.   0.   0.   0.   0.\n",
      "   0.   0.   0.   1.   1.   1.   1.   1.   1.   1.   2.   2.   2.   3.   3.\n",
      "   3.   3.   3.   3.   3.   4.   4.   5.   5.   5.   5.   6.   6.   6.   6.\n",
      "   6.   7.   7.   7.   7.   7.   7.   7.   7.   7.   8.   8.   8.   8.   8.\n",
      "   8.   8.   8.   8.   8.   8.   8.   8.   8.   8.   8.   8.   9.   9.   9.\n",
      "   9.   9.   9.   9.   9.   9.   9.   9.   9.  10.  10.  10.  10.  10.  10.\n",
      "  10.  10.  10.  11.  11.  11.  11.  12.  12.  12.  13.  13.  13.  14.  14.\n",
      "  14.  14.  14.  14.  14.  14.  14.  15.  15.  15.  15.  15.  15.  15.  15.\n",
      "  15.  15.  15.  15.  15.  15.  15.  15.  15.  15.  15.  15.  15.  15.  15.\n",
      "  15.  15.  15.  15.  15.  15.  15.  15.  15.  15.  15.  15.  15.  15.  15.\n",
      "  15.  15.  15.  15.  15.  15.  15.  15.  15.  15.  15.  15.  15.  15.  15.\n",
      "  15.  15.  15.  15.  15.  15.  15.  15.  15.  15.  15.  15.  15.  15.  15.\n",
      "  15.  15.  15.  15.  15.  15.  15.  15.  15.  15.  15.  15.  15.  15.  15.\n",
      "  15.  15.  15.  15.  15.  15.  15.  15.  15.  15.  15.  15.  15.  15.  15.\n",
      "  15.  15.  15.  15.  15.  15.  15.  15.  15.  15.  15.  15.  15.  15.  15.\n",
      "  15.  15.  15.  15.  15.  15.  15.  15.  15.  15.  15.  15.  15.  15.  15.\n",
      "  15.  15.  15.  15.  15.  15.  15.  15.  15.  15.  15.  15.  15.  15.  15.\n",
      "  15.  15.  15.  15.  15.  15.  15.  15.  15.  15.  15.  15.  15.  15.  15.\n",
      "  15.  15.  15.  15.  15.  15.  15.  15.  15.  15.  15.  15.  15.  15.  15.\n",
      "  15.  15.  15.  15.  15.  15.  15.  15.  15.  15.  15.  15.  15.  15.  15.\n",
      "  15.  15.  15.  15.  15.  15.  15.  15.  15.  15.  15.  15.  15.  15.  15.\n",
      "  15.  15.  15.  15.  15.  15.  15.  15.  15.  15.  15.  15.  15.  15.  15.\n",
      "  15.  15.  15.  15.  15.  15.  15.  15.  15.  15.  15.  15.  15.  15.  15.\n",
      "  15.  15.  15.  15.  15.  15.  15.  15.  15.  15.  15.  15.  15.  15.  15.\n",
      "  15.  15.  15.  15.  15.  15.  15.  15.  15.  15.  15.  15.  15.  15.  15.\n",
      "  15.  15.  15.  15.  15.  15.  15.  15.  15.  15.  15.  15.  15.  15.  15.\n",
      "  15.  15.  15.  15.  15.  15.  15.  15.  15.  15.  15.  15.  15.  15.  15.\n",
      "  15.  15.  15.  15.  15.  15.  15.  15.  15.  15.  15.  15.  15.  15.  15.\n",
      "  15.  15.  15.  15.  15.  15.  15.  15.  15.  15.  15.  15.  15.  15.  15.\n",
      "  15.  15.  15.  15.  15.  15.  15.  15.  15.  15.  15.  15.  15.  15.  15.\n",
      "  15.  16.  16.  16.  16.  16.  16.  16.  16.  16.  16.  16.  16.  16.  16.\n",
      "  16.  16.  16.  16.  16.  16.  16.  16.  16.  16.  16.  16.  16.  16.  17.\n",
      "  17.  17.  17.  17.  17.  17.  17.  17.  17.  17.  17.  17.  17.  17.  17.\n",
      "  17.  17.  17.  17.  17.  17.  17.  18.  18.  18.  18.  18.  18.  18.  18.\n",
      "  18.  18.  18.  18.  18.  18.  18.  18.  18.  18.  18.  18.  18.  19.  19.\n",
      "  19.  19.  19.  19.  19.  19.  19.  19.  19.  19.  19.  19.  19.  19.  19.\n",
      "  19.  19.  19.  19.  19.  19.  19.  19.  19.  19.  19.  19.  19.  19.  19.\n",
      "  19.  19.  19.  19.  19.  19.  19.  19.  19.  19.  19.  19.  19.  19.  19.\n",
      "  19.  19.  19.  19.  19.  19.  19.  19.  19.  19.  19.  19.  19.  19.  19.\n",
      "  19.  19.  19.  19.  19.  19.  19.  19.  19.  19.  19.  19.  19.  19.  19.\n",
      "  19.  19.  19.  19.  19.  19.  19.  19.  19.  19.  19.  19.  19.  19.  19.\n",
      "  19.  19.  19.  19.  19.  19.  19.  19.  19.  19.  19.  19.  19.  19.  19.\n",
      "  19.  19.  19.  19.  19.  19.  19.  19.  19.  19.  19.  19.  19.  19.  19.\n",
      "  19.  19.  19.  19.]\n"
     ]
    }
   ],
   "source": [
    "# Filter features by information gain\n",
    "\n",
    "gain = calculate_information_gain(train_data, train_labels)\n",
    "\n",
    "print(gain)\n",
    "\n",
    "# sort features by calculated information gain\n",
    "ranks = gain.argsort()[::-1]\n",
    "\n",
    "train_data = train_data[ranks[:d], :]\n",
    "print(train_data.shape)\n",
    "test_data = test_data[ranks[:d], :]\n",
    "bool_array = train_data[0,:].toarray().ravel()\n",
    "split = train_data[:, bool_array]\n",
    "print(train_labels[bool_array])"
   ]
  },
  {
   "cell_type": "code",
   "execution_count": 49,
   "metadata": {},
   "outputs": [
    {
     "ename": "TypeError",
     "evalue": "'range' object does not support item assignment",
     "output_type": "error",
     "traceback": [
      "\u001b[1;31m---------------------------------------------------------------------------\u001b[0m",
      "\u001b[1;31mTypeError\u001b[0m                                 Traceback (most recent call last)",
      "\u001b[1;32m<ipython-input-49-1d7a6958e30d>\u001b[0m in \u001b[0;36m<module>\u001b[1;34m()\u001b[0m\n\u001b[0;32m      2\u001b[0m \u001b[1;33m\u001b[0m\u001b[0m\n\u001b[0;32m      3\u001b[0m \u001b[0morder\u001b[0m \u001b[1;33m=\u001b[0m \u001b[0mrange\u001b[0m\u001b[1;33m(\u001b[0m\u001b[0mnum_training\u001b[0m\u001b[1;33m)\u001b[0m\u001b[1;33m\u001b[0m\u001b[0m\n\u001b[1;32m----> 4\u001b[1;33m \u001b[0mrandom\u001b[0m\u001b[1;33m.\u001b[0m\u001b[0mshuffle\u001b[0m\u001b[1;33m(\u001b[0m\u001b[0morder\u001b[0m\u001b[1;33m)\u001b[0m\u001b[1;33m\u001b[0m\u001b[0m\n\u001b[0m\u001b[0;32m      5\u001b[0m \u001b[1;33m\u001b[0m\u001b[0m\n\u001b[0;32m      6\u001b[0m \u001b[0mtrain_data\u001b[0m \u001b[1;33m=\u001b[0m \u001b[0mtrain_data\u001b[0m\u001b[1;33m[\u001b[0m\u001b[1;33m:\u001b[0m\u001b[1;33m,\u001b[0m \u001b[0morder\u001b[0m\u001b[1;33m]\u001b[0m\u001b[1;33m\u001b[0m\u001b[0m\n",
      "\u001b[1;32mC:\\Users\\Broulaye\\Anaconda3\\lib\\random.py\u001b[0m in \u001b[0;36mshuffle\u001b[1;34m(self, x, random)\u001b[0m\n\u001b[0;32m    272\u001b[0m                 \u001b[1;31m# pick an element in x[:i+1] with which to exchange x[i]\u001b[0m\u001b[1;33m\u001b[0m\u001b[1;33m\u001b[0m\u001b[0m\n\u001b[0;32m    273\u001b[0m                 \u001b[0mj\u001b[0m \u001b[1;33m=\u001b[0m \u001b[0mrandbelow\u001b[0m\u001b[1;33m(\u001b[0m\u001b[0mi\u001b[0m\u001b[1;33m+\u001b[0m\u001b[1;36m1\u001b[0m\u001b[1;33m)\u001b[0m\u001b[1;33m\u001b[0m\u001b[0m\n\u001b[1;32m--> 274\u001b[1;33m                 \u001b[0mx\u001b[0m\u001b[1;33m[\u001b[0m\u001b[0mi\u001b[0m\u001b[1;33m]\u001b[0m\u001b[1;33m,\u001b[0m \u001b[0mx\u001b[0m\u001b[1;33m[\u001b[0m\u001b[0mj\u001b[0m\u001b[1;33m]\u001b[0m \u001b[1;33m=\u001b[0m \u001b[0mx\u001b[0m\u001b[1;33m[\u001b[0m\u001b[0mj\u001b[0m\u001b[1;33m]\u001b[0m\u001b[1;33m,\u001b[0m \u001b[0mx\u001b[0m\u001b[1;33m[\u001b[0m\u001b[0mi\u001b[0m\u001b[1;33m]\u001b[0m\u001b[1;33m\u001b[0m\u001b[0m\n\u001b[0m\u001b[0;32m    275\u001b[0m         \u001b[1;32melse\u001b[0m\u001b[1;33m:\u001b[0m\u001b[1;33m\u001b[0m\u001b[0m\n\u001b[0;32m    276\u001b[0m             \u001b[0m_int\u001b[0m \u001b[1;33m=\u001b[0m \u001b[0mint\u001b[0m\u001b[1;33m\u001b[0m\u001b[0m\n",
      "\u001b[1;31mTypeError\u001b[0m: 'range' object does not support item assignment"
     ]
    }
   ],
   "source": [
    "# randomly shuffle data\n",
    "\n",
    "order = range(num_training)\n",
    "random.shuffle(order)\n",
    "\n",
    "train_data = train_data[:, order]\n",
    "train_labels = train_labels[order]"
   ]
  },
  {
   "cell_type": "code",
   "execution_count": 7,
   "metadata": {
    "collapsed": true
   },
   "outputs": [],
   "source": [
    "# Try naive Bayes with cross-validation\n",
    "\n",
    "alpha_values = 10.0 ** np.array(range(-10,0))\n",
    "\n",
    "cv_score = np.zeros(alpha_values.size)\n",
    "\n",
    "params = dict()\n",
    "\n",
    "for i in range(alpha_values.size):\n",
    "    params['alpha'] = alpha_values[i]\n",
    "    cv_score[i], _ = cross_validate(naive_bayes_train, naive_bayes_predict, \n",
    "                                    train_data, train_labels, 8, params)"
   ]
  },
  {
   "cell_type": "code",
   "execution_count": 8,
   "metadata": {},
   "outputs": [
    {
     "data": {
      "text/plain": [
       "<matplotlib.text.Text at 0x1120bcc50>"
      ]
     },
     "execution_count": 8,
     "metadata": {},
     "output_type": "execute_result"
    },
    {
     "data": {
      "image/png": "[encoded data removed]",
      "text/plain": [
       "<matplotlib.figure.Figure at 0x105daa050>"
      ]
     },
     "metadata": {},
     "output_type": "display_data"
    }
   ],
   "source": [
    "plt.semilogx(alpha_values, cv_score)\n",
    "plt.xlabel('alpha')\n",
    "plt.ylabel('CV Accuracy')\n",
    "plt.title('Naive Bayes Cross-Validation Accuracy')"
   ]
  },
  {
   "cell_type": "code",
   "execution_count": 9,
   "metadata": {
    "collapsed": true
   },
   "outputs": [],
   "source": [
    "# Train on full data with best alpha value\n",
    "\n",
    "best_alpha_index = cv_score.argmax()\n",
    "\n",
    "params['alpha'] = alpha_values[best_alpha_index]\n",
    "\n",
    "nb_model = naive_bayes_train(train_data, train_labels, params)"
   ]
  },
  {
   "cell_type": "code",
   "execution_count": 10,
   "metadata": {},
   "outputs": [
    {
     "name": "stdout",
     "output_type": "stream",
     "text": [
      "Naive Bayes testing accuracy: 0.670886\n"
     ]
    }
   ],
   "source": [
    "# Compute testing accuracy\n",
    "\n",
    "nb_predictions = naive_bayes_predict(test_data, nb_model)\n",
    "\n",
    "nb_accuracy = np.mean(nb_predictions == test_labels)\n",
    "\n",
    "print(\"Naive Bayes testing accuracy: %f\" % nb_accuracy)"
   ]
  },
  {
   "cell_type": "code",
   "execution_count": 50,
   "metadata": {
    "collapsed": true
   },
   "outputs": [],
   "source": [
    "# prune data to even smaller (since decision tree takes much longer to train)\n",
    "\n",
    "d = 250\n",
    "\n",
    "train_data_small = train_data[:d, :]\n",
    "test_data_small = test_data[:d, :]"
   ]
  },
  {
   "cell_type": "code",
   "execution_count": 51,
   "metadata": {},
   "outputs": [],
   "source": [
    "depth_values = np.array([2, 4, 8, 16, 32, 64])\n",
    "\n",
    "cv_score = np.zeros(depth_values.size)\n",
    "\n",
    "params = dict()\n",
    "\n",
    "for i in range(depth_values.size):\n",
    "    params['max_depth'] = depth_values[i]\n",
    "    cv_score[i], _ = cross_validate(decision_tree_train, decision_tree_predict, \n",
    "                                 train_data_small, train_labels, 3, params)"
   ]
  },
  {
   "cell_type": "code",
   "execution_count": 52,
   "metadata": {},
   "outputs": [
    {
     "data": {
      "text/plain": [
       "<matplotlib.text.Text at 0x18bce8835c0>"
      ]
     },
     "execution_count": 52,
     "metadata": {},
     "output_type": "execute_result"
    },
    {
     "data": {
      "image/png": "[encoded data removed]",
      "text/plain": [
       "<matplotlib.figure.Figure at 0x18bdfe23da0>"
      ]
     },
     "metadata": {},
     "output_type": "display_data"
    }
   ],
   "source": [
    "plt.plot(depth_values, cv_score)\n",
    "plt.xlabel('Max Depth')\n",
    "plt.ylabel('CV Accuracy')\n",
    "plt.title('Decision Tree Cross-Validation Accuracy')"
   ]
  },
  {
   "cell_type": "code",
   "execution_count": 59,
   "metadata": {},
   "outputs": [
    {
     "name": "stdout",
     "output_type": "stream",
     "text": [
      "rank of left split\n",
      "22\n",
      "current root\n",
      "0\n",
      "rank of right split\n",
      "1\n",
      "current root\n",
      "0\n",
      "rank of left split\n",
      "249\n",
      "current root\n",
      "22\n",
      "rank of right split\n",
      "49\n",
      "current root\n",
      "22\n",
      "rank of left split\n",
      "19\n",
      "current root\n",
      "1\n",
      "rank of right split\n",
      "1\n",
      "current root\n",
      "1\n"
     ]
    }
   ],
   "source": [
    "# Train on full data with best depth\n",
    "\n",
    "best_depth_index = cv_score.argmax()\n",
    "\n",
    "params['max_depth'] = depth_values[best_depth_index]\n",
    "\n",
    "dt_model = decision_tree_train(train_data, train_labels, params)"
   ]
  },
  {
   "cell_type": "code",
   "execution_count": 61,
   "metadata": {},
   "outputs": [
    {
     "name": "stdout",
     "output_type": "stream",
     "text": [
      "{0: {'prediction': None, 'l_child': {...}, 'r_child': {...}}, 22: {'prediction': None, 'l_child': {...}, 'r_child': {...}}, 249: {'prediction': 15, 'l_child': None, 'r_child': None}, 49: {'prediction': 15, 'l_child': None, 'r_child': None}, 1: {'prediction': 10, 'l_child': None, 'r_child': {...}}, 19: {'prediction': 2, 'l_child': None, 'r_child': None}}\n",
      "Decision tree testing accuracy: 0.000000\n"
     ]
    }
   ],
   "source": [
    "# Compute testing accuracy\n",
    "\n",
    "dt_predictions = decision_tree_predict(test_data, dt_model)\n",
    "\n",
    "dt_accuracy = np.mean(dt_predictions == test_labels)\n",
    "\n",
    "print(\"Decision tree testing accuracy: %f\" % dt_accuracy)"
   ]
  },
  {
   "cell_type": "code",
   "execution_count": null,
   "metadata": {
    "collapsed": true
   },
   "outputs": [],
   "source": []
  }
 ],
 "metadata": {
  "anaconda-cloud": {},
  "kernelspec": {
   "display_name": "Python 3",
   "language": "python",
   "name": "python3"
  },
  "language_info": {
   "codemirror_mode": {
    "name": "ipython",
    "version": 3
   },
   "file_extension": ".py",
   "mimetype": "text/x-python",
   "name": "python",
   "nbconvert_exporter": "python",
   "pygments_lexer": "ipython3",
   "version": "3.6.1"
  }
 },
 "nbformat": 4,
 "nbformat_minor": 1
}
